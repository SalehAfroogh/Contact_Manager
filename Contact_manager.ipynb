{
 "cells": [
  {
   "cell_type": "code",
   "execution_count": 82,
   "metadata": {},
   "outputs": [],
   "source": [
    "import json\n",
    "class ContactManager:\n",
    "    def __init__(self):\n",
    "        self.contact_list = []\n",
    "    \n",
    "    def add(self, name, number):\n",
    "        self.contact_list.append({\n",
    "            \"name\": name,\n",
    "            \"number\": number\n",
    "        })\n",
    "        \n",
    "    def search(self, name):\n",
    "        result=[]\n",
    "        for item in self.contact_list:\n",
    "            if name.lower() in item[\"name\"].lower():\n",
    "                result.append(item)\n",
    "        \n",
    "        print(result)\n",
    "    \n",
    "    def backup(self):\n",
    "        with open(\"./contact_list.json\", \"w\") as f:\n",
    "            f.write(json.dumps(self.contact_list))\n",
    "    \n",
    "    def print(self):\n",
    "        print(f\"Your contacts are {self.contact_list}\")\n",
    "         \n",
    "    "
   ]
  },
  {
   "cell_type": "code",
   "execution_count": 83,
   "metadata": {},
   "outputs": [
    {
     "name": "stdout",
     "output_type": "stream",
     "text": [
      "Your contacts are [{'name': 'Lia', 'number': '68705448'}]\n"
     ]
    }
   ],
   "source": [
    "my_contacts = ContactManager()\n",
    "\n",
    "my_contacts.add(\"Lia\", \"68705448\")\n",
    "\n",
    "my_contacts.print()"
   ]
  },
  {
   "cell_type": "code",
   "execution_count": 84,
   "metadata": {},
   "outputs": [],
   "source": [
    "my_contacts.add(\"Sara\", \"24578654\")\n"
   ]
  },
  {
   "cell_type": "code",
   "execution_count": 85,
   "metadata": {},
   "outputs": [
    {
     "name": "stdout",
     "output_type": "stream",
     "text": [
      "Your contacts are [{'name': 'Lia', 'number': '68705448'}, {'name': 'Sara', 'number': '24578654'}]\n"
     ]
    }
   ],
   "source": [
    "my_contacts.print()"
   ]
  },
  {
   "cell_type": "code",
   "execution_count": 86,
   "metadata": {},
   "outputs": [
    {
     "name": "stdout",
     "output_type": "stream",
     "text": [
      "[{'name': 'Sara', 'number': '24578654'}]\n"
     ]
    }
   ],
   "source": [
    "my_contacts.search(\"Sa\")"
   ]
  },
  {
   "cell_type": "code",
   "execution_count": 87,
   "metadata": {},
   "outputs": [],
   "source": [
    "my_contacts.backup()"
   ]
  }
 ],
 "metadata": {
  "kernelspec": {
   "display_name": "base",
   "language": "python",
   "name": "python3"
  },
  "language_info": {
   "codemirror_mode": {
    "name": "ipython",
    "version": 3
   },
   "file_extension": ".py",
   "mimetype": "text/x-python",
   "name": "python",
   "nbconvert_exporter": "python",
   "pygments_lexer": "ipython3",
   "version": "3.12.2"
  }
 },
 "nbformat": 4,
 "nbformat_minor": 2
}
